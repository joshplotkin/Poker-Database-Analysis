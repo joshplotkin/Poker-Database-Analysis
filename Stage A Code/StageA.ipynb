{
 "metadata": {
  "name": "",
  "signature": "sha256:3f7fa9a4fa841b2af488a50ca0e6c593e24adcf8ea33e2fdc2449dcb04e85868"
 },
 "nbformat": 3,
 "nbformat_minor": 0,
 "worksheets": [
  {
   "cells": [
    {
     "cell_type": "markdown",
     "metadata": {},
     "source": [
      "# Stage A (The Not-So-Fun Stuff): Extract and consolidate the data from the database and produce an 'All Hands' and 'All Players' Dataframe for each\n"
     ]
    },
    {
     "cell_type": "markdown",
     "metadata": {},
     "source": [
      "## Database schema and extraction strategy.\n",
      "\n",
      "### The database\n",
      "\n",
      "The hands are all No Limit Hold'em (NLHE) hands. There are two forms of NLHE games, tournaments and cash games. Tournaments are what are typically seen on television. Professional players typically spend most of their time in cash games, as tournaments have significantly more variance, which makes it exceedingly stressful to make a living.\n",
      "\n",
      "The hands were all played on the site PokerStars, in tables of maximum 6 players (known as 6-max games) in a format called Zoom. The game is called 200NL, which means it has a \\$2 big blind and \\$200 maximum buyin. This project will be measured in units of big blinds, so \\$2.\n",
      "\n",
      "### Missingness\n",
      "\n",
      "One element that cannot be captured is the number of tables a player is playing. These are fast-paced games where most good players are playing around 1000 hands per hour. In addition, the site offers rewards in the form of \"rakeback\" which cannot be measured, as it depends on the volume of hands a player plays. \n",
      "\n",
      "It is also important to understand that poker is a game of hidden information. Unlike chess, where all information is shared by both players, each player has 2 hole cards that are not seen by the other player. This database does not contain that hidden information, and so the value of different hole cards in different situations cannot be measured. \n",
      "\n",
      "There are two ways a hand can end:\n",
      "\n",
      "* one player makes the rest of the players fold (i.e. they are unwilling to match that player's bet or raise).\n",
      "* two or more players complete all the betting action throughout the hand, and go to \"showdown,\" meaning that the best hand wins.\n",
      "\n",
      "\n",
      "We have hole card information only in the instances where the hands go to showdown. This information is mostly useless as \n",
      "\n",
      "* the hands at showdown are likely to be strong hands\n",
      "* the strong two-card holdings such as AA, KK, AK, etc. are more likely to get to showdown than a weak hand such as 72.\n",
      "\n",
      "### The approach\n",
      "\n",
      "The good news is that __the frequencies are what are truly important in poker.__ I have done a significant amount of work and research around game theory in poker, and I have found in many instances, the frequencies with which we take actions can be more important than the cards themselves. This is mostly true among the marginal hands.\n",
      "\n",
      "Analyzing the frequencies and the statistics which represent these frequencies will be the approach I am taking.\n",
      "\n",
      "__TODO: Fix this afterwards__\n",
      "\n",
      "(not true anymore)\n",
      "Further, I will be running classification rather than regression. The reason for this is that there is significant variance in the game. Even with a sample of 50,000 or more hands on some players, there is still too much uncertainty in winrates for regression to be meaningful. Instead, I will look at players with a given p-value for being a winning player and others with a given p-value for being a losing player.\n",
      "(/ not true anymore)\n",
      "\n",
      "\n",
      "One final point is that there is a metric that is slightly less susceptible to luck, that I'll refer to as EV winnings. Any time players are \"all-in\", the rest of the 5-card board is dealt. If one player is expected to win 60% of the time, EV winnings will count the winnings as if that player wins 60% of the pot. This doesn't remove all elements of luck from the game, but it is is a more stable metric than pure winrate.\n",
      "\n",
      "### A note on player types\n",
      "\n",
      "The reason a person can profit playing poker is because the game is played amongst customers, while the site or casino takes a percentage \"rake\" from each put (on PokerStars, 4.5% up to \\$3 in these games). This separates poker from all other casino games.\n",
      "\n",
      "In addition, poker is seen as a hobby for millions of people around the world. Just as many people flock to Las Vegas playing craps and blackjack for entertainment, knowing they aren't \"supposed to\" win, many people play poker for entertainment. I will refer to these as \"casual players\" as opposed to \"regulars.\" We will be able to see this quickly by looking at the \"VP\\$IP\" and \"PFR\" stats, and I will remove these players from the analysis. __I want to observe what separates the winning regulars from the losing regulars__.\n",
      "\n",
      "### The extraction strategy\n",
      "\n",
      "The full database had roughly 9 million hands in total in a PostgreSQL database. I have software, Pokertracker4, which parses \"hand histories\" provided by PokerStars and puts them into a database. Since it is 6-max, there are roughly 50 million rows. Even pulling out 2 columns repeatedly caused my computer to run out of memory and crash.\n",
      "\n",
      "What I have done instead is import the hands into 4 PostgreSQL databases and handled them separately. Once I've combined the data, if I have enough winning players with the requisite p-value, I will randomly choose a test and validation set.\n",
      "\n",
      "I found more complex SQL statements were exceedingly slow, and so my approach was to pull the raw data out of the database and manipulate it in Python with pandas.\n",
      "\n",
      "I found a library called psycopg2 that allows me to pull the data right into a dataframe.\n",
      "\n",
      "### Project Goals\n",
      "\n",
      "I recently went to a fantastic talk with Chris Wiggins, and he stressed the idea of keeping an eye on what we are actually doing. I am a person who easily goes off on tangents (which is obvious in my iteration plans), so I'm adding this part in an attempt to stick to the plan. This is a point at which I am also re-organizing these notebooks.\n",
      "\n",
      "* I will make reproduceable code so if I were to give this to a poker player who knows some python, he or she could run the initial code and get the data into a form to expand on the type of data analysis I'm doing here. He or she could also follow along and run the same algorithms or make the same plots I am with his or her own data.\n",
      "\n",
      "\n",
      "* I will find some statistics or traits that separate the winning regulars from the losing regulars\n",
      "\n",
      "\n",
      "* I will divide some of this by position (i.e. the seat a player is in relative to the dealer button)\n",
      "\n",
      "\n",
      "* I will make some headway on analyzing the board texture (i.e. the distribution of the community cards)"
     ]
    },
    {
     "cell_type": "markdown",
     "metadata": {},
     "source": [
      "### Importing and basic functions"
     ]
    },
    {
     "cell_type": "code",
     "collapsed": false,
     "input": [
      "import pandas as pd\n",
      "import numpy as np\n",
      "from pandas import *\n",
      "import os\n",
      "import psycopg2\n",
      "import sys\n",
      "import brewer2mpl\n",
      "import pylab as P\n",
      "import matplotlib as plt\n",
      "import matplotlib\n",
      "import matplotlib.pyplot as plt\n",
      "import scipy as sc\n",
      "from scipy import stats\n",
      "from scipy.stats import norm\n",
      "from pylab import *\n",
      "from numpy import float64"
     ],
     "language": "python",
     "metadata": {},
     "outputs": [],
     "prompt_number": 18
    },
    {
     "cell_type": "code",
     "collapsed": false,
     "input": [
      "pd.set_option('max_rows',4000)\n",
      "pd.set_option('max_columns',1000)\n",
      "pandas.set_option('precision',3)\n",
      "os.chdir('C:\\Users\\JP\\Desktop\\Dropbox\\SCHOOL\\Spring2014\\EDAV\\Poker data\\NEW_TRY\\StageA')"
     ],
     "language": "python",
     "metadata": {},
     "outputs": [],
     "prompt_number": 17
    },
    {
     "cell_type": "markdown",
     "metadata": {},
     "source": [
      "* ## Step 1: Pull the data from the database\n",
      "\n",
      " * ### Step 1.1: Connect to the database and make some functions that will clean up the output to the dataframe."
     ]
    },
    {
     "cell_type": "code",
     "collapsed": false,
     "input": [
      "def login():\n",
      "\tdb_name = \"EDAV_1\" # the databases are EDAV_1,...,EDAV_4\n",
      "\tconnection = psycopg2.connect(\"dbname=\" + db_name + \" user=postgres password=postgrespass\")\n",
      "\tmark = connection.cursor()\n",
      "\treturn mark \n",
      "\n",
      "mark = login()"
     ],
     "language": "python",
     "metadata": {},
     "outputs": [],
     "prompt_number": 4
    },
    {
     "cell_type": "markdown",
     "metadata": {},
     "source": [
      "Some functions I created to rename the columns in the dataframe:"
     ]
    },
    {
     "cell_type": "code",
     "collapsed": false,
     "input": [
      "def rename_headers(table_headers, record): # Rename columns with default database names.\n",
      "\tcolumn_names = 'select column_name from information_schema.columns where table_name = ' + table_headers\n",
      "\tmark.execute(column_names)\n",
      "\theaders = mark.fetchall()\n",
      "\n",
      "\ti=0\n",
      "\tfor col in headers:\n",
      "\t\tcol = str(col)[2:-3]\n",
      "\t\trecord.rename(columns={i:col}, inplace=True)\n",
      "\t\ti += 1\n",
      "\n",
      "def rename_custom(custom_headers, df): # Rename columns with custom headers.\n",
      "\n",
      "\ti=0\n",
      "\tfor col in custom_headers:\n",
      "\t\tdf.rename(columns={i:col}, inplace=True)\n",
      "\t\ti += 1"
     ],
     "language": "python",
     "metadata": {},
     "outputs": [],
     "prompt_number": 5
    },
    {
     "cell_type": "markdown",
     "metadata": {},
     "source": [
      "* ### Step 1.2: Pull out each individual hand from EDAV_1 database, with\n",
      "\n",
      "  * Player ID\n",
      "  * Amount that player won\n",
      "  * Amount that player was expected to win\n",
      "  * ID for the Limit (200NL, 100NL, etc.)"
     ]
    },
    {
     "cell_type": "code",
     "collapsed": false,
     "input": [
      "column = 'id_player, amt_won, amt_expected_won, id_limit'\n",
      "table = 'cash_hand_player_statistics'\n",
      "\n",
      "custom_headers = ('PLAYER_ID', 'AMT_WON', 'EV_WON', 'LIMIT')\n",
      "\n",
      "statement = 'SELECT id_player, amt_won, amt_expected_won, id_limit FROM cash_hand_player_statistics'\n",
      "\n",
      "mark.execute(statement)\n",
      "edav1 = mark.fetchall()\n",
      "edav1 = pd.DataFrame(edav1)\n",
      "rename_custom(custom_headers, edav1)"
     ],
     "language": "python",
     "metadata": {},
     "outputs": [],
     "prompt_number": 6
    },
    {
     "cell_type": "markdown",
     "metadata": {},
     "source": [
      " * ### Step 1.3: Pull the screennames and limits (size of blinds) out of the database, and join with main dataframe.\n",
      " \n",
      "   * We have PLAYER_ID and LIMIT which are keys to the actual player screenname and limit. Rather than doing a join in SQL I will pull these into memory and run a join in pandas. "
     ]
    },
    {
     "cell_type": "code",
     "collapsed": false,
     "input": [
      "## LIMIT IDs\n",
      "statement = 'SELECT id_limit,amt_bb FROM cash_limit'\n",
      "\n",
      "mark.execute(statement)\n",
      "limits = mark.fetchall()\n",
      "limits = pd.DataFrame(limits)\n",
      "\n",
      "custom_headers = ('LIMIT','BB_SIZE')\n",
      "rename_custom(custom_headers, limits)"
     ],
     "language": "python",
     "metadata": {},
     "outputs": [],
     "prompt_number": 7
    },
    {
     "cell_type": "code",
     "collapsed": false,
     "input": [
      "## PLAYER NAMES\n",
      "statement = 'SELECT id_player, player_name FROM player'\n",
      "mark.execute(statement)\n",
      "screennames = mark.fetchall()\n",
      "screennames = pd.DataFrame(screennames)\n",
      "\n",
      "custom_headers = ('PLAYER_ID', 'NAME')\n",
      "rename_custom(custom_headers, screennames)"
     ],
     "language": "python",
     "metadata": {},
     "outputs": [],
     "prompt_number": 8
    },
    {
     "cell_type": "markdown",
     "metadata": {},
     "source": [
      "Let's peak and see what each of these looks like"
     ]
    },
    {
     "cell_type": "code",
     "collapsed": false,
     "input": [
      "edav1.head()"
     ],
     "language": "python",
     "metadata": {},
     "outputs": [
      {
       "html": [
        "<div style=\"max-height:1000px;max-width:1500px;overflow:auto;\">\n",
        "<table border=\"1\" class=\"dataframe\">\n",
        "  <thead>\n",
        "    <tr style=\"text-align: right;\">\n",
        "      <th></th>\n",
        "      <th>PLAYER_ID</th>\n",
        "      <th>AMT_WON</th>\n",
        "      <th>EV_WON</th>\n",
        "      <th>LIMIT</th>\n",
        "    </tr>\n",
        "  </thead>\n",
        "  <tbody>\n",
        "    <tr>\n",
        "      <th>0</th>\n",
        "      <td>    36</td>\n",
        "      <td>  -2.00</td>\n",
        "      <td>  -2.00</td>\n",
        "      <td> 5</td>\n",
        "    </tr>\n",
        "    <tr>\n",
        "      <th>1</th>\n",
        "      <td>  6933</td>\n",
        "      <td>   0.00</td>\n",
        "      <td>   0.00</td>\n",
        "      <td> 5</td>\n",
        "    </tr>\n",
        "    <tr>\n",
        "      <th>2</th>\n",
        "      <td>  2295</td>\n",
        "      <td>   0.00</td>\n",
        "      <td>   0.00</td>\n",
        "      <td> 5</td>\n",
        "    </tr>\n",
        "    <tr>\n",
        "      <th>3</th>\n",
        "      <td> 22398</td>\n",
        "      <td>   0.00</td>\n",
        "      <td>   0.00</td>\n",
        "      <td> 5</td>\n",
        "    </tr>\n",
        "    <tr>\n",
        "      <th>4</th>\n",
        "      <td>  3105</td>\n",
        "      <td> 161.72</td>\n",
        "      <td> 161.72</td>\n",
        "      <td> 5</td>\n",
        "    </tr>\n",
        "  </tbody>\n",
        "</table>\n",
        "<p>5 rows \u00d7 4 columns</p>\n",
        "</div>"
       ],
       "metadata": {},
       "output_type": "pyout",
       "prompt_number": 9,
       "text": [
        "   PLAYER_ID AMT_WON  EV_WON  LIMIT\n",
        "0         36   -2.00   -2.00      5\n",
        "1       6933    0.00    0.00      5\n",
        "2       2295    0.00    0.00      5\n",
        "3      22398    0.00    0.00      5\n",
        "4       3105  161.72  161.72      5\n",
        "\n",
        "[5 rows x 4 columns]"
       ]
      }
     ],
     "prompt_number": 9
    },
    {
     "cell_type": "code",
     "collapsed": false,
     "input": [
      "screennames = screennames.set_index('PLAYER_ID')\n",
      "screennames.head()"
     ],
     "language": "python",
     "metadata": {},
     "outputs": [
      {
       "html": [
        "<div style=\"max-height:1000px;max-width:1500px;overflow:auto;\">\n",
        "<table border=\"1\" class=\"dataframe\">\n",
        "  <thead>\n",
        "    <tr style=\"text-align: right;\">\n",
        "      <th></th>\n",
        "      <th>NAME</th>\n",
        "    </tr>\n",
        "    <tr>\n",
        "      <th>PLAYER_ID</th>\n",
        "      <th></th>\n",
        "    </tr>\n",
        "  </thead>\n",
        "  <tbody>\n",
        "    <tr>\n",
        "      <th> 0</th>\n",
        "      <td>     [Split Pot]</td>\n",
        "    </tr>\n",
        "    <tr>\n",
        "      <th>-1</th>\n",
        "      <td> [No Low Winner]</td>\n",
        "    </tr>\n",
        "    <tr>\n",
        "      <th> 1</th>\n",
        "      <td>      Winged Guy</td>\n",
        "    </tr>\n",
        "    <tr>\n",
        "      <th> 2</th>\n",
        "      <td>        McloverC</td>\n",
        "    </tr>\n",
        "    <tr>\n",
        "      <th> 3</th>\n",
        "      <td>         Ville72</td>\n",
        "    </tr>\n",
        "  </tbody>\n",
        "</table>\n",
        "<p>5 rows \u00d7 1 columns</p>\n",
        "</div>"
       ],
       "metadata": {},
       "output_type": "pyout",
       "prompt_number": 10,
       "text": [
        "                      NAME\n",
        "PLAYER_ID                 \n",
        " 0             [Split Pot]\n",
        "-1         [No Low Winner]\n",
        " 1              Winged Guy\n",
        " 2                McloverC\n",
        " 3                 Ville72\n",
        "\n",
        "[5 rows x 1 columns]"
       ]
      }
     ],
     "prompt_number": 10
    },
    {
     "cell_type": "code",
     "collapsed": false,
     "input": [
      "limits = limits.set_index('LIMIT')\n",
      "limits.head(10)"
     ],
     "language": "python",
     "metadata": {},
     "outputs": [
      {
       "html": [
        "<div style=\"max-height:1000px;max-width:1500px;overflow:auto;\">\n",
        "<table border=\"1\" class=\"dataframe\">\n",
        "  <thead>\n",
        "    <tr style=\"text-align: right;\">\n",
        "      <th></th>\n",
        "      <th>BB_SIZE</th>\n",
        "    </tr>\n",
        "    <tr>\n",
        "      <th>LIMIT</th>\n",
        "      <th></th>\n",
        "    </tr>\n",
        "  </thead>\n",
        "  <tbody>\n",
        "    <tr>\n",
        "      <th>1 </th>\n",
        "      <td>  1.00</td>\n",
        "    </tr>\n",
        "    <tr>\n",
        "      <th>2 </th>\n",
        "      <td>  1.00</td>\n",
        "    </tr>\n",
        "    <tr>\n",
        "      <th>3 </th>\n",
        "      <td>  1.00</td>\n",
        "    </tr>\n",
        "    <tr>\n",
        "      <th>4 </th>\n",
        "      <td>  2.00</td>\n",
        "    </tr>\n",
        "    <tr>\n",
        "      <th>5 </th>\n",
        "      <td>  2.00</td>\n",
        "    </tr>\n",
        "    <tr>\n",
        "      <th>6 </th>\n",
        "      <td>  2.00</td>\n",
        "    </tr>\n",
        "    <tr>\n",
        "      <th>7 </th>\n",
        "      <td>  1.00</td>\n",
        "    </tr>\n",
        "    <tr>\n",
        "      <th>8 </th>\n",
        "      <td>  4.00</td>\n",
        "    </tr>\n",
        "    <tr>\n",
        "      <th>9 </th>\n",
        "      <td>  4.00</td>\n",
        "    </tr>\n",
        "    <tr>\n",
        "      <th>10</th>\n",
        "      <td> 20.00</td>\n",
        "    </tr>\n",
        "  </tbody>\n",
        "</table>\n",
        "<p>10 rows \u00d7 1 columns</p>\n",
        "</div>"
       ],
       "metadata": {},
       "output_type": "pyout",
       "prompt_number": 11,
       "text": [
        "      BB_SIZE\n",
        "LIMIT        \n",
        "1        1.00\n",
        "2        1.00\n",
        "3        1.00\n",
        "4        2.00\n",
        "5        2.00\n",
        "6        2.00\n",
        "7        1.00\n",
        "8        4.00\n",
        "9        4.00\n",
        "10      20.00\n",
        "\n",
        "[10 rows x 1 columns]"
       ]
      }
     ],
     "prompt_number": 11
    },
    {
     "cell_type": "markdown",
     "metadata": {},
     "source": [
      "There are multiple codes given the same limit. We can keep hands from 100NL in addition to 200NL, so we want all hands where the BB_SIZE == 1 or BB_SIZE == 2. We can throw out the rest of the hands from the database (there aren't many)."
     ]
    },
    {
     "cell_type": "code",
     "collapsed": false,
     "input": [
      "limits = limits[np.logical_or(limits.BB_SIZE == 1,limits.BB_SIZE == 2)]\n",
      "limits.index.values"
     ],
     "language": "python",
     "metadata": {},
     "outputs": [
      {
       "metadata": {},
       "output_type": "pyout",
       "prompt_number": 12,
       "text": [
        "array([ 1,  2,  3,  4,  5,  6,  7, 13, 15, 16, 17, 18, 28, 29], dtype=int64)"
       ]
      }
     ],
     "prompt_number": 12
    },
    {
     "cell_type": "markdown",
     "metadata": {},
     "source": [
      "Join the BB_SIZE using LIMIT_ID as key:"
     ]
    },
    {
     "cell_type": "code",
     "collapsed": false,
     "input": [
      "edav1 = edav1.join(limits, on='LIMIT', how = 'left')"
     ],
     "language": "python",
     "metadata": {},
     "outputs": [],
     "prompt_number": 13
    },
    {
     "cell_type": "code",
     "collapsed": false,
     "input": [
      "del edav1['LIMIT']"
     ],
     "language": "python",
     "metadata": {},
     "outputs": [],
     "prompt_number": 14
    },
    {
     "cell_type": "code",
     "collapsed": false,
     "input": [
      "edav1 = edav1[np.logical_or(edav1.BB_SIZE == 1, edav1.BB_SIZE == 2)]"
     ],
     "language": "python",
     "metadata": {},
     "outputs": [],
     "prompt_number": 15
    },
    {
     "cell_type": "code",
     "collapsed": false,
     "input": [
      "edav1 = edav1.join(screennames, on = 'PLAYER_ID', how = 'left')"
     ],
     "language": "python",
     "metadata": {},
     "outputs": [],
     "prompt_number": 16
    },
    {
     "cell_type": "code",
     "collapsed": false,
     "input": [
      "del edav1['PLAYER_ID']"
     ],
     "language": "python",
     "metadata": {},
     "outputs": [],
     "prompt_number": 17
    },
    {
     "cell_type": "markdown",
     "metadata": {},
     "source": [
      "Now we divide by the BB_SIZE to get the number of BB won or lost, since that is our unit of measure."
     ]
    },
    {
     "cell_type": "code",
     "collapsed": true,
     "input": [
      "## MAKE INTO FLOATS\n",
      "make_float = lambda x: float(x)\n",
      "edav1.EV_WON = edav1.EV_WON.apply(make_float)\n",
      "edav1.AMT_WON = edav1.AMT_WON.apply(make_float)\n",
      "edav1.BB_SIZE = edav1.BB_SIZE.apply(make_float)\n",
      "\n",
      "edav1.AMT_WON = edav1.AMT_WON / edav1.BB_SIZE\n",
      "edav1.EV_WON = edav1.EV_WON / edav1.BB_SIZE\n",
      "del edav1['BB_SIZE']\n",
      "\n",
      "edav1.head()"
     ],
     "language": "python",
     "metadata": {},
     "outputs": [
      {
       "html": [
        "<div style=\"max-height:1000px;max-width:1500px;overflow:auto;\">\n",
        "<table border=\"1\" class=\"dataframe\">\n",
        "  <thead>\n",
        "    <tr style=\"text-align: right;\">\n",
        "      <th></th>\n",
        "      <th>AMT_WON</th>\n",
        "      <th>EV_WON</th>\n",
        "      <th>NAME</th>\n",
        "    </tr>\n",
        "  </thead>\n",
        "  <tbody>\n",
        "    <tr>\n",
        "      <th>0</th>\n",
        "      <td> -1.00</td>\n",
        "      <td> -1.00</td>\n",
        "      <td>  madmanco6</td>\n",
        "    </tr>\n",
        "    <tr>\n",
        "      <th>1</th>\n",
        "      <td>  0.00</td>\n",
        "      <td>  0.00</td>\n",
        "      <td> CrazyPlays</td>\n",
        "    </tr>\n",
        "    <tr>\n",
        "      <th>2</th>\n",
        "      <td>  0.00</td>\n",
        "      <td>  0.00</td>\n",
        "      <td>    sx49732</td>\n",
        "    </tr>\n",
        "    <tr>\n",
        "      <th>3</th>\n",
        "      <td>  0.00</td>\n",
        "      <td>  0.00</td>\n",
        "      <td>   Mick H P</td>\n",
        "    </tr>\n",
        "    <tr>\n",
        "      <th>4</th>\n",
        "      <td> 80.86</td>\n",
        "      <td> 80.86</td>\n",
        "      <td>      Fiude</td>\n",
        "    </tr>\n",
        "  </tbody>\n",
        "</table>\n",
        "<p>5 rows \u00d7 3 columns</p>\n",
        "</div>"
       ],
       "metadata": {},
       "output_type": "pyout",
       "prompt_number": 18,
       "text": [
        "   AMT_WON  EV_WON        NAME\n",
        "0    -1.00   -1.00   madmanco6\n",
        "1     0.00    0.00  CrazyPlays\n",
        "2     0.00    0.00     sx49732\n",
        "3     0.00    0.00    Mick H P\n",
        "4    80.86   80.86       Fiude\n",
        "\n",
        "[5 rows x 3 columns]"
       ]
      }
     ],
     "prompt_number": 18
    },
    {
     "cell_type": "code",
     "collapsed": false,
     "input": [
      "hands = edav1.NAME.value_counts()\n",
      "bb_won = edav1.groupby('NAME').AMT_WON.sum()\n",
      "evbb_won = edav1.groupby('NAME').EV_WON.sum()"
     ],
     "language": "python",
     "metadata": {},
     "outputs": [],
     "prompt_number": 21
    },
    {
     "cell_type": "code",
     "collapsed": false,
     "input": [
      "players = pd.concat((hands, bb_won, evbb_won), axis=1)\n",
      "players.columns = ('HANDS','AMT_WON','EV_WON')\n",
      "\n",
      "players.sort('HANDS',ascending = False).head()"
     ],
     "language": "python",
     "metadata": {},
     "outputs": [
      {
       "html": [
        "<div style=\"max-height:1000px;max-width:1500px;overflow:auto;\">\n",
        "<table border=\"1\" class=\"dataframe\">\n",
        "  <thead>\n",
        "    <tr style=\"text-align: right;\">\n",
        "      <th></th>\n",
        "      <th>HANDS</th>\n",
        "      <th>AMT_WON</th>\n",
        "      <th>EV_WON</th>\n",
        "    </tr>\n",
        "  </thead>\n",
        "  <tbody>\n",
        "    <tr>\n",
        "      <th>DjuNKeLL</th>\n",
        "      <td> 309686</td>\n",
        "      <td> 10523.32</td>\n",
        "      <td> 12552.47</td>\n",
        "    </tr>\n",
        "    <tr>\n",
        "      <th>Pokerupt</th>\n",
        "      <td>  39906</td>\n",
        "      <td>  -661.61</td>\n",
        "      <td>  -496.99</td>\n",
        "    </tr>\n",
        "    <tr>\n",
        "      <th>Andypsx</th>\n",
        "      <td>  38031</td>\n",
        "      <td>   432.92</td>\n",
        "      <td>    20.58</td>\n",
        "    </tr>\n",
        "    <tr>\n",
        "      <th>krissyb24</th>\n",
        "      <td>  36553</td>\n",
        "      <td>  1932.82</td>\n",
        "      <td>  1283.92</td>\n",
        "    </tr>\n",
        "    <tr>\n",
        "      <th>Pyro12345</th>\n",
        "      <td>  35841</td>\n",
        "      <td>  -473.21</td>\n",
        "      <td>   -99.94</td>\n",
        "    </tr>\n",
        "  </tbody>\n",
        "</table>\n",
        "<p>5 rows \u00d7 3 columns</p>\n",
        "</div>"
       ],
       "metadata": {},
       "output_type": "pyout",
       "prompt_number": 23,
       "text": [
        "            HANDS   AMT_WON    EV_WON\n",
        "DjuNKeLL   309686  10523.32  12552.47\n",
        "Pokerupt    39906   -661.61   -496.99\n",
        "Andypsx     38031    432.92     20.58\n",
        "krissyb24   36553   1932.82   1283.92\n",
        "Pyro12345   35841   -473.21    -99.94\n",
        "\n",
        "[5 rows x 3 columns]"
       ]
      }
     ],
     "prompt_number": 23
    },
    {
     "cell_type": "code",
     "collapsed": false,
     "input": [
      "players.HANDS = players.HANDS.apply(make_float)\n",
      "\n",
      "players.to_csv('1_EDAV_PLAYERS_1.csv')"
     ],
     "language": "python",
     "metadata": {},
     "outputs": [],
     "prompt_number": 24
    },
    {
     "cell_type": "markdown",
     "metadata": {},
     "source": [
      "And we can see the cumulative total for all players in this database:"
     ]
    },
    {
     "cell_type": "code",
     "collapsed": false,
     "input": [
      "sums = players[[0,1,2]]\n",
      "sums.columns = ['HANDS','BB_WON','EV_WON']\n",
      "sums.sum()"
     ],
     "language": "python",
     "metadata": {},
     "outputs": [
      {
       "metadata": {},
       "output_type": "pyout",
       "prompt_number": 25,
       "text": [
        "HANDS     6276447.00\n",
        "BB_WON    -301426.88\n",
        "EV_WON    -301418.27\n",
        "dtype: float64"
       ]
      }
     ],
     "prompt_number": 25
    },
    {
     "cell_type": "markdown",
     "metadata": {},
     "source": [
      "  * ### Step 1.4: Fix screennames oddities\n",
      "      * PokerStars allows all sorts of characters in their screennames, many of which Python does not like.\n",
      "      * We need to fix this somehow."
     ]
    },
    {
     "cell_type": "code",
     "collapsed": false,
     "input": [
      "players1 = read_csv('1_EDAV_PLAYERS_1.csv', index_col = 'Unnamed: 0')\n",
      "\n",
      "players1['NAME'] = players1.index\n",
      "\n",
      "print players1.NAME.ix[3442]"
     ],
     "language": "python",
     "metadata": {},
     "outputs": [
      {
       "output_type": "stream",
       "stream": "stdout",
       "text": [
        "Danad\u00e3o\n"
       ]
      }
     ],
     "prompt_number": 50
    },
    {
     "cell_type": "code",
     "collapsed": false,
     "input": [
      "players1.NAME.ix[3442]"
     ],
     "language": "python",
     "metadata": {},
     "outputs": [
      {
       "metadata": {},
       "output_type": "pyout",
       "prompt_number": 51,
       "text": [
        "'Danad\\xc3\\xa3o'"
       ]
      }
     ],
     "prompt_number": 51
    },
    {
     "cell_type": "markdown",
     "metadata": {},
     "source": [
      "As we can see, this player's screennames presents a problem. One character doesn't even show up on iPython notebook. I experienced this in my 2nd blog post and created a workaround to fix it since the dataset was small. Here, I need a more elegant solution."
     ]
    },
    {
     "cell_type": "code",
     "collapsed": false,
     "input": [
      "print unicode(players1.NAME.ix[3442], errors = 'ignore')"
     ],
     "language": "python",
     "metadata": {},
     "outputs": [
      {
       "output_type": "stream",
       "stream": "stdout",
       "text": [
        "Danado\n"
       ]
      }
     ],
     "prompt_number": 52
    },
    {
     "cell_type": "markdown",
     "metadata": {},
     "source": [
      "This would work, except for this little problem..."
     ]
    },
    {
     "cell_type": "code",
     "collapsed": false,
     "input": [
      "print unicode(players1.NAME.ix[3441], errors = 'ignore')"
     ],
     "language": "python",
     "metadata": {},
     "outputs": [
      {
       "output_type": "stream",
       "stream": "stdout",
       "text": [
        "Danado\n"
       ]
      }
     ],
     "prompt_number": 53
    },
    {
     "cell_type": "markdown",
     "metadata": {},
     "source": [
      "By ignoring the character, Danadao winds up being the same as Danado. Screennames must be unique, so we need a better solution."
     ]
    },
    {
     "cell_type": "code",
     "collapsed": false,
     "input": [
      "unicode(players1.NAME.ix[3442], errors = 'replace')"
     ],
     "language": "python",
     "metadata": {},
     "outputs": [
      {
       "metadata": {},
       "output_type": "pyout",
       "prompt_number": 54,
       "text": [
        "u'Danad\\ufffd\\ufffdo'"
       ]
      }
     ],
     "prompt_number": 54
    },
    {
     "cell_type": "markdown",
     "metadata": {},
     "source": [
      "By running the unicode function with 'replace', the problem characters are replaced with u\"\\ufffd\", which we can then replace, like so:"
     ]
    },
    {
     "cell_type": "code",
     "collapsed": false,
     "input": [
      "print unicode(players1.NAME.ix[3442], errors = 'replace').replace(u\"\\ufffd\",'*')"
     ],
     "language": "python",
     "metadata": {},
     "outputs": [
      {
       "output_type": "stream",
       "stream": "stdout",
       "text": [
        "Danad**o\n"
       ]
      }
     ],
     "prompt_number": 55
    },
    {
     "cell_type": "markdown",
     "metadata": {},
     "source": [
      "Another example:"
     ]
    },
    {
     "cell_type": "code",
     "collapsed": false,
     "input": [
      "print players1.NAME.ix[31162]\n",
      "print unicode(players1.NAME.ix[31162], errors = 'replace').replace(u\"\\ufffd\",'*')"
     ],
     "language": "python",
     "metadata": {},
     "outputs": [
      {
       "output_type": "stream",
       "stream": "stdout",
       "text": [
        "\u00b5edvedko\n",
        "**edvedko\n"
       ]
      }
     ],
     "prompt_number": 56
    },
    {
     "cell_type": "markdown",
     "metadata": {},
     "source": [
      "By replacing the problem characters with '*', we can be virtually certain (we can check for anything that flew under the radar after) that there will be no screenname conflicts. Now, to fix all problems in one fell swoop."
     ]
    },
    {
     "cell_type": "code",
     "collapsed": false,
     "input": [
      "fix_name = lambda x: unicode(x, errors = 'replace').replace(u\"\\ufffd\",'*')\n",
      "players1.NAME = players1.NAME.apply(fix_name)\n",
      "\n",
      "print players1.NAME.ix[3442]\n",
      "print players1.NAME.ix[31162]"
     ],
     "language": "python",
     "metadata": {},
     "outputs": [
      {
       "output_type": "stream",
       "stream": "stdout",
       "text": [
        "Danad**o\n",
        "**edvedko\n"
       ]
      }
     ],
     "prompt_number": 57
    },
    {
     "cell_type": "markdown",
     "metadata": {},
     "source": [
      "And as mentioned, we can check for any duplicate screennames."
     ]
    },
    {
     "cell_type": "code",
     "collapsed": false,
     "input": [
      "print players1[players1.duplicated('NAME') == True]"
     ],
     "language": "python",
     "metadata": {},
     "outputs": [
      {
       "output_type": "stream",
       "stream": "stdout",
       "text": [
        "Empty DataFrame\n",
        "Columns: [HANDS, AMT_WON, EV_WON, NAME]\n",
        "Index: []\n",
        "\n",
        "[0 rows x 4 columns]\n"
       ]
      }
     ],
     "prompt_number": 59
    },
    {
     "cell_type": "markdown",
     "metadata": {},
     "source": [
      "  * ### Step 1.5: Repeat the process\n",
      "      * I have created a python script that takes any number of Pokertracker4 databases, pulls out the data, cleans it, and stores a csv file for further manipulation.\n",
      "      * __This file can be found in my repo under Part1 as extractdata.py__"
     ]
    },
    {
     "cell_type": "markdown",
     "metadata": {},
     "source": [
      " * ## Step 2: consolidate the 4 dataframes for players only.\n",
      "\n",
      "   * A combined dataframe of all hands crashes my computer. I need to manipulate those in pieces.\n",
      "   * The 4 'All Players' databases will arrive at a cumulative:\n",
      "     * number of hands\n",
      "     * BB won\n",
      "     * BB(EV) won\n",
      "\n",
      " * ### Keeping sight of the goals:\n",
      "   * Short-term goal: calculate a winrate for each player\n",
      "   * Longer-term goal: study the standard deviations for the players\n",
      "   * Long-term goal: study the relationships between different factors and players' winrates"
     ]
    },
    {
     "cell_type": "code",
     "collapsed": false,
     "input": [
      "players1 = read_csv('DATA/1_EDAV_PLAYERS_1.csv', index_col = 'NAME')\n",
      "players2 = read_csv('DATA/1_EDAV_PLAYERS_2.csv', index_col = 'NAME')\n",
      "players3 = read_csv('DATA/1_EDAV_PLAYERS_3.csv', index_col = 'NAME')\n",
      "players4 = read_csv('DATA/1_EDAV_PLAYERS_4.csv', index_col = 'NAME')"
     ],
     "language": "python",
     "metadata": {},
     "outputs": [],
     "prompt_number": 8
    },
    {
     "cell_type": "markdown",
     "metadata": {},
     "source": [
      "Since we want the sums, I'm going to join the dataframes column-wise, indexing by screenname. The column names are the same, so I need unique column names for SQL style joining of the dataframes."
     ]
    },
    {
     "cell_type": "code",
     "collapsed": false,
     "input": [
      "i = 1\n",
      "for df in (players1, players2, players3, players4):\n",
      "    col_names = []\n",
      "    for col in df.columns:\n",
      "        col_names.append(col + '_' + str(i))\n",
      "    df.columns = col_names\n",
      "    i += 1\n",
      "    \n",
      "players1.head()"
     ],
     "language": "python",
     "metadata": {},
     "outputs": [
      {
       "html": [
        "<div style=\"max-height:1000px;max-width:1500px;overflow:auto;\">\n",
        "<table border=\"1\" class=\"dataframe\">\n",
        "  <thead>\n",
        "    <tr style=\"text-align: right;\">\n",
        "      <th></th>\n",
        "      <th>HANDS_1</th>\n",
        "      <th>AMT_WON_1</th>\n",
        "      <th>EV_WON_1</th>\n",
        "    </tr>\n",
        "    <tr>\n",
        "      <th>NAME</th>\n",
        "      <th></th>\n",
        "      <th></th>\n",
        "      <th></th>\n",
        "    </tr>\n",
        "  </thead>\n",
        "  <tbody>\n",
        "    <tr>\n",
        "      <th>!1dayIwIllbe</th>\n",
        "      <td>   1</td>\n",
        "      <td>   0.00</td>\n",
        "      <td>   0.00</td>\n",
        "    </tr>\n",
        "    <tr>\n",
        "      <th>!nf!nity</th>\n",
        "      <td>   1</td>\n",
        "      <td>  -5.50</td>\n",
        "      <td>  -5.50</td>\n",
        "    </tr>\n",
        "    <tr>\n",
        "      <th>\"DANger919</th>\n",
        "      <td>  36</td>\n",
        "      <td> -64.90</td>\n",
        "      <td> -35.88</td>\n",
        "    </tr>\n",
        "    <tr>\n",
        "      <th>\"_Hook_77103</th>\n",
        "      <td>  11</td>\n",
        "      <td>   1.00</td>\n",
        "      <td>   1.00</td>\n",
        "    </tr>\n",
        "    <tr>\n",
        "      <th>\"oh high\"</th>\n",
        "      <td> 366</td>\n",
        "      <td>-197.96</td>\n",
        "      <td>-288.23</td>\n",
        "    </tr>\n",
        "  </tbody>\n",
        "</table>\n",
        "<p>5 rows \u00d7 3 columns</p>\n",
        "</div>"
       ],
       "metadata": {},
       "output_type": "pyout",
       "prompt_number": 9,
       "text": [
        "              HANDS_1  AMT_WON_1  EV_WON_1\n",
        "NAME                                      \n",
        "!1dayIwIllbe        1       0.00      0.00\n",
        "!nf!nity            1      -5.50     -5.50\n",
        "\"DANger919         36     -64.90    -35.88\n",
        "\"_Hook_77103       11       1.00      1.00\n",
        "\"oh high\"         366    -197.96   -288.23\n",
        "\n",
        "[5 rows x 3 columns]"
       ]
      }
     ],
     "prompt_number": 9
    },
    {
     "cell_type": "code",
     "collapsed": false,
     "input": [
      "all_players = players1.join(players2, how = 'outer')\n",
      "all_players = all_players.join(players3, how = 'outer')\n",
      "all_players = all_players.join(players4, how = 'outer')\n",
      "\n",
      "all_players.head()"
     ],
     "language": "python",
     "metadata": {},
     "outputs": [
      {
       "html": [
        "<div style=\"max-height:1000px;max-width:1500px;overflow:auto;\">\n",
        "<table border=\"1\" class=\"dataframe\">\n",
        "  <thead>\n",
        "    <tr style=\"text-align: right;\">\n",
        "      <th></th>\n",
        "      <th>HANDS_1</th>\n",
        "      <th>AMT_WON_1</th>\n",
        "      <th>EV_WON_1</th>\n",
        "      <th>HANDS_2</th>\n",
        "      <th>AMT_WON_2</th>\n",
        "      <th>EV_WON_2</th>\n",
        "      <th>HANDS_3</th>\n",
        "      <th>AMT_WON_3</th>\n",
        "      <th>EV_WON_3</th>\n",
        "      <th>HANDS_4</th>\n",
        "      <th>AMT_WON_4</th>\n",
        "      <th>EV_WON_4</th>\n",
        "    </tr>\n",
        "    <tr>\n",
        "      <th>NAME</th>\n",
        "      <th></th>\n",
        "      <th></th>\n",
        "      <th></th>\n",
        "      <th></th>\n",
        "      <th></th>\n",
        "      <th></th>\n",
        "      <th></th>\n",
        "      <th></th>\n",
        "      <th></th>\n",
        "      <th></th>\n",
        "      <th></th>\n",
        "      <th></th>\n",
        "    </tr>\n",
        "  </thead>\n",
        "  <tbody>\n",
        "    <tr>\n",
        "      <th>!1dayIwIllbe</th>\n",
        "      <td>  1</td>\n",
        "      <td>  0.0</td>\n",
        "      <td>  0.00</td>\n",
        "      <td> NaN</td>\n",
        "      <td>   NaN</td>\n",
        "      <td>   NaN</td>\n",
        "      <td>  NaN</td>\n",
        "      <td>    NaN</td>\n",
        "      <td>    NaN</td>\n",
        "      <td>NaN</td>\n",
        "      <td>NaN</td>\n",
        "      <td>NaN</td>\n",
        "    </tr>\n",
        "    <tr>\n",
        "      <th>!DiAmAntiAA!</th>\n",
        "      <td>NaN</td>\n",
        "      <td>  NaN</td>\n",
        "      <td>   NaN</td>\n",
        "      <td> NaN</td>\n",
        "      <td>   NaN</td>\n",
        "      <td>   NaN</td>\n",
        "      <td>  534</td>\n",
        "      <td>-319.12</td>\n",
        "      <td>-272.28</td>\n",
        "      <td>NaN</td>\n",
        "      <td>NaN</td>\n",
        "      <td>NaN</td>\n",
        "    </tr>\n",
        "    <tr>\n",
        "      <th>!nf!nity</th>\n",
        "      <td>  1</td>\n",
        "      <td> -5.5</td>\n",
        "      <td> -5.50</td>\n",
        "      <td> NaN</td>\n",
        "      <td>   NaN</td>\n",
        "      <td>   NaN</td>\n",
        "      <td>  NaN</td>\n",
        "      <td>    NaN</td>\n",
        "      <td>    NaN</td>\n",
        "      <td>NaN</td>\n",
        "      <td>NaN</td>\n",
        "      <td>NaN</td>\n",
        "    </tr>\n",
        "    <tr>\n",
        "      <th>\"DANger919</th>\n",
        "      <td> 36</td>\n",
        "      <td>-64.9</td>\n",
        "      <td>-35.88</td>\n",
        "      <td> 671</td>\n",
        "      <td>-50.75</td>\n",
        "      <td>-71.66</td>\n",
        "      <td> 1069</td>\n",
        "      <td> 736.82</td>\n",
        "      <td> 499.32</td>\n",
        "      <td>NaN</td>\n",
        "      <td>NaN</td>\n",
        "      <td>NaN</td>\n",
        "    </tr>\n",
        "    <tr>\n",
        "      <th>\"KibaDachi\"**</th>\n",
        "      <td>NaN</td>\n",
        "      <td>  NaN</td>\n",
        "      <td>   NaN</td>\n",
        "      <td>   1</td>\n",
        "      <td> -1.00</td>\n",
        "      <td> -1.00</td>\n",
        "      <td>  NaN</td>\n",
        "      <td>    NaN</td>\n",
        "      <td>    NaN</td>\n",
        "      <td>NaN</td>\n",
        "      <td>NaN</td>\n",
        "      <td>NaN</td>\n",
        "    </tr>\n",
        "  </tbody>\n",
        "</table>\n",
        "<p>5 rows \u00d7 12 columns</p>\n",
        "</div>"
       ],
       "metadata": {},
       "output_type": "pyout",
       "prompt_number": 10,
       "text": [
        "               HANDS_1  AMT_WON_1  EV_WON_1  HANDS_2  AMT_WON_2  EV_WON_2  \\\n",
        "NAME                                                                        \n",
        "!1dayIwIllbe         1        0.0      0.00      NaN        NaN       NaN   \n",
        "!DiAmAntiAA!       NaN        NaN       NaN      NaN        NaN       NaN   \n",
        "!nf!nity             1       -5.5     -5.50      NaN        NaN       NaN   \n",
        "\"DANger919          36      -64.9    -35.88      671     -50.75    -71.66   \n",
        "\"KibaDachi\"**      NaN        NaN       NaN        1      -1.00     -1.00   \n",
        "\n",
        "               HANDS_3  AMT_WON_3  EV_WON_3  HANDS_4  AMT_WON_4  EV_WON_4  \n",
        "NAME                                                                       \n",
        "!1dayIwIllbe       NaN        NaN       NaN      NaN        NaN       NaN  \n",
        "!DiAmAntiAA!       534    -319.12   -272.28      NaN        NaN       NaN  \n",
        "!nf!nity           NaN        NaN       NaN      NaN        NaN       NaN  \n",
        "\"DANger919        1069     736.82    499.32      NaN        NaN       NaN  \n",
        "\"KibaDachi\"**      NaN        NaN       NaN      NaN        NaN       NaN  \n",
        "\n",
        "[5 rows x 12 columns]"
       ]
      }
     ],
     "prompt_number": 10
    },
    {
     "cell_type": "markdown",
     "metadata": {},
     "source": [
      "We have some NaN that is going to cause problems when we want to add the columns together. We can turn those to zeros."
     ]
    },
    {
     "cell_type": "code",
     "collapsed": false,
     "input": [
      "null_zero = lambda x: 0 if isnan(x) else x\n",
      "old_cols = all_players.columns\n",
      "for col in old_cols:\n",
      "\tall_players[col] = all_players[col].apply(null_zero)\n",
      "\n",
      "all_players.head()"
     ],
     "language": "python",
     "metadata": {},
     "outputs": [
      {
       "html": [
        "<div style=\"max-height:1000px;max-width:1500px;overflow:auto;\">\n",
        "<table border=\"1\" class=\"dataframe\">\n",
        "  <thead>\n",
        "    <tr style=\"text-align: right;\">\n",
        "      <th></th>\n",
        "      <th>HANDS_1</th>\n",
        "      <th>AMT_WON_1</th>\n",
        "      <th>EV_WON_1</th>\n",
        "      <th>HANDS_2</th>\n",
        "      <th>AMT_WON_2</th>\n",
        "      <th>EV_WON_2</th>\n",
        "      <th>HANDS_3</th>\n",
        "      <th>AMT_WON_3</th>\n",
        "      <th>EV_WON_3</th>\n",
        "      <th>HANDS_4</th>\n",
        "      <th>AMT_WON_4</th>\n",
        "      <th>EV_WON_4</th>\n",
        "    </tr>\n",
        "    <tr>\n",
        "      <th>NAME</th>\n",
        "      <th></th>\n",
        "      <th></th>\n",
        "      <th></th>\n",
        "      <th></th>\n",
        "      <th></th>\n",
        "      <th></th>\n",
        "      <th></th>\n",
        "      <th></th>\n",
        "      <th></th>\n",
        "      <th></th>\n",
        "      <th></th>\n",
        "      <th></th>\n",
        "    </tr>\n",
        "  </thead>\n",
        "  <tbody>\n",
        "    <tr>\n",
        "      <th>!1dayIwIllbe</th>\n",
        "      <td>  1</td>\n",
        "      <td>  0.0</td>\n",
        "      <td>  0.00</td>\n",
        "      <td>   0</td>\n",
        "      <td>  0.00</td>\n",
        "      <td>  0.00</td>\n",
        "      <td>    0</td>\n",
        "      <td>   0.00</td>\n",
        "      <td>   0.00</td>\n",
        "      <td> 0</td>\n",
        "      <td> 0</td>\n",
        "      <td> 0</td>\n",
        "    </tr>\n",
        "    <tr>\n",
        "      <th>!DiAmAntiAA!</th>\n",
        "      <td>  0</td>\n",
        "      <td>  0.0</td>\n",
        "      <td>  0.00</td>\n",
        "      <td>   0</td>\n",
        "      <td>  0.00</td>\n",
        "      <td>  0.00</td>\n",
        "      <td>  534</td>\n",
        "      <td>-319.12</td>\n",
        "      <td>-272.28</td>\n",
        "      <td> 0</td>\n",
        "      <td> 0</td>\n",
        "      <td> 0</td>\n",
        "    </tr>\n",
        "    <tr>\n",
        "      <th>!nf!nity</th>\n",
        "      <td>  1</td>\n",
        "      <td> -5.5</td>\n",
        "      <td> -5.50</td>\n",
        "      <td>   0</td>\n",
        "      <td>  0.00</td>\n",
        "      <td>  0.00</td>\n",
        "      <td>    0</td>\n",
        "      <td>   0.00</td>\n",
        "      <td>   0.00</td>\n",
        "      <td> 0</td>\n",
        "      <td> 0</td>\n",
        "      <td> 0</td>\n",
        "    </tr>\n",
        "    <tr>\n",
        "      <th>\"DANger919</th>\n",
        "      <td> 36</td>\n",
        "      <td>-64.9</td>\n",
        "      <td>-35.88</td>\n",
        "      <td> 671</td>\n",
        "      <td>-50.75</td>\n",
        "      <td>-71.66</td>\n",
        "      <td> 1069</td>\n",
        "      <td> 736.82</td>\n",
        "      <td> 499.32</td>\n",
        "      <td> 0</td>\n",
        "      <td> 0</td>\n",
        "      <td> 0</td>\n",
        "    </tr>\n",
        "    <tr>\n",
        "      <th>\"KibaDachi\"**</th>\n",
        "      <td>  0</td>\n",
        "      <td>  0.0</td>\n",
        "      <td>  0.00</td>\n",
        "      <td>   1</td>\n",
        "      <td> -1.00</td>\n",
        "      <td> -1.00</td>\n",
        "      <td>    0</td>\n",
        "      <td>   0.00</td>\n",
        "      <td>   0.00</td>\n",
        "      <td> 0</td>\n",
        "      <td> 0</td>\n",
        "      <td> 0</td>\n",
        "    </tr>\n",
        "  </tbody>\n",
        "</table>\n",
        "<p>5 rows \u00d7 12 columns</p>\n",
        "</div>"
       ],
       "metadata": {},
       "output_type": "pyout",
       "prompt_number": 12,
       "text": [
        "               HANDS_1  AMT_WON_1  EV_WON_1  HANDS_2  AMT_WON_2  EV_WON_2  \\\n",
        "NAME                                                                        \n",
        "!1dayIwIllbe         1        0.0      0.00        0       0.00      0.00   \n",
        "!DiAmAntiAA!         0        0.0      0.00        0       0.00      0.00   \n",
        "!nf!nity             1       -5.5     -5.50        0       0.00      0.00   \n",
        "\"DANger919          36      -64.9    -35.88      671     -50.75    -71.66   \n",
        "\"KibaDachi\"**        0        0.0      0.00        1      -1.00     -1.00   \n",
        "\n",
        "               HANDS_3  AMT_WON_3  EV_WON_3  HANDS_4  AMT_WON_4  EV_WON_4  \n",
        "NAME                                                                       \n",
        "!1dayIwIllbe         0       0.00      0.00        0          0         0  \n",
        "!DiAmAntiAA!       534    -319.12   -272.28        0          0         0  \n",
        "!nf!nity             0       0.00      0.00        0          0         0  \n",
        "\"DANger919        1069     736.82    499.32        0          0         0  \n",
        "\"KibaDachi\"**        0       0.00      0.00        0          0         0  \n",
        "\n",
        "[5 rows x 12 columns]"
       ]
      }
     ],
     "prompt_number": 12
    },
    {
     "cell_type": "markdown",
     "metadata": {},
     "source": [
      "Sum up the totals from each of the 4 databases."
     ]
    },
    {
     "cell_type": "code",
     "collapsed": false,
     "input": [
      "all_players['HANDS'] = all_players.HANDS_1 + all_players.HANDS_2 + all_players.HANDS_3 + all_players.HANDS_4\n",
      "all_players['AMT_WON'] = all_players.AMT_WON_1 + all_players.AMT_WON_2 + all_players.AMT_WON_3 + all_players.AMT_WON_4\n",
      "all_players['EV_WON'] = all_players.EV_WON_1 + all_players.EV_WON_2 + all_players.EV_WON_3 + all_players.EV_WON_4\n",
      "\n",
      "all_players.head()"
     ],
     "language": "python",
     "metadata": {},
     "outputs": [
      {
       "html": [
        "<div style=\"max-height:1000px;max-width:1500px;overflow:auto;\">\n",
        "<table border=\"1\" class=\"dataframe\">\n",
        "  <thead>\n",
        "    <tr style=\"text-align: right;\">\n",
        "      <th></th>\n",
        "      <th>HANDS_1</th>\n",
        "      <th>AMT_WON_1</th>\n",
        "      <th>EV_WON_1</th>\n",
        "      <th>HANDS_2</th>\n",
        "      <th>AMT_WON_2</th>\n",
        "      <th>EV_WON_2</th>\n",
        "      <th>HANDS_3</th>\n",
        "      <th>AMT_WON_3</th>\n",
        "      <th>EV_WON_3</th>\n",
        "      <th>HANDS_4</th>\n",
        "      <th>AMT_WON_4</th>\n",
        "      <th>EV_WON_4</th>\n",
        "      <th>HANDS</th>\n",
        "      <th>AMT_WON</th>\n",
        "      <th>EV_WON</th>\n",
        "    </tr>\n",
        "    <tr>\n",
        "      <th>NAME</th>\n",
        "      <th></th>\n",
        "      <th></th>\n",
        "      <th></th>\n",
        "      <th></th>\n",
        "      <th></th>\n",
        "      <th></th>\n",
        "      <th></th>\n",
        "      <th></th>\n",
        "      <th></th>\n",
        "      <th></th>\n",
        "      <th></th>\n",
        "      <th></th>\n",
        "      <th></th>\n",
        "      <th></th>\n",
        "      <th></th>\n",
        "    </tr>\n",
        "  </thead>\n",
        "  <tbody>\n",
        "    <tr>\n",
        "      <th>!1dayIwIllbe</th>\n",
        "      <td>  1</td>\n",
        "      <td>  0.0</td>\n",
        "      <td>  0.00</td>\n",
        "      <td>   0</td>\n",
        "      <td>  0.00</td>\n",
        "      <td>  0.00</td>\n",
        "      <td>    0</td>\n",
        "      <td>   0.00</td>\n",
        "      <td>   0.00</td>\n",
        "      <td> 0</td>\n",
        "      <td> 0</td>\n",
        "      <td> 0</td>\n",
        "      <td>    1</td>\n",
        "      <td>   0.00</td>\n",
        "      <td>   0.00</td>\n",
        "    </tr>\n",
        "    <tr>\n",
        "      <th>!DiAmAntiAA!</th>\n",
        "      <td>  0</td>\n",
        "      <td>  0.0</td>\n",
        "      <td>  0.00</td>\n",
        "      <td>   0</td>\n",
        "      <td>  0.00</td>\n",
        "      <td>  0.00</td>\n",
        "      <td>  534</td>\n",
        "      <td>-319.12</td>\n",
        "      <td>-272.28</td>\n",
        "      <td> 0</td>\n",
        "      <td> 0</td>\n",
        "      <td> 0</td>\n",
        "      <td>  534</td>\n",
        "      <td>-319.12</td>\n",
        "      <td>-272.28</td>\n",
        "    </tr>\n",
        "    <tr>\n",
        "      <th>!nf!nity</th>\n",
        "      <td>  1</td>\n",
        "      <td> -5.5</td>\n",
        "      <td> -5.50</td>\n",
        "      <td>   0</td>\n",
        "      <td>  0.00</td>\n",
        "      <td>  0.00</td>\n",
        "      <td>    0</td>\n",
        "      <td>   0.00</td>\n",
        "      <td>   0.00</td>\n",
        "      <td> 0</td>\n",
        "      <td> 0</td>\n",
        "      <td> 0</td>\n",
        "      <td>    1</td>\n",
        "      <td>  -5.50</td>\n",
        "      <td>  -5.50</td>\n",
        "    </tr>\n",
        "    <tr>\n",
        "      <th>\"DANger919</th>\n",
        "      <td> 36</td>\n",
        "      <td>-64.9</td>\n",
        "      <td>-35.88</td>\n",
        "      <td> 671</td>\n",
        "      <td>-50.75</td>\n",
        "      <td>-71.66</td>\n",
        "      <td> 1069</td>\n",
        "      <td> 736.82</td>\n",
        "      <td> 499.32</td>\n",
        "      <td> 0</td>\n",
        "      <td> 0</td>\n",
        "      <td> 0</td>\n",
        "      <td> 1776</td>\n",
        "      <td> 621.16</td>\n",
        "      <td> 391.78</td>\n",
        "    </tr>\n",
        "    <tr>\n",
        "      <th>\"KibaDachi\"**</th>\n",
        "      <td>  0</td>\n",
        "      <td>  0.0</td>\n",
        "      <td>  0.00</td>\n",
        "      <td>   1</td>\n",
        "      <td> -1.00</td>\n",
        "      <td> -1.00</td>\n",
        "      <td>    0</td>\n",
        "      <td>   0.00</td>\n",
        "      <td>   0.00</td>\n",
        "      <td> 0</td>\n",
        "      <td> 0</td>\n",
        "      <td> 0</td>\n",
        "      <td>    1</td>\n",
        "      <td>  -1.00</td>\n",
        "      <td>  -1.00</td>\n",
        "    </tr>\n",
        "  </tbody>\n",
        "</table>\n",
        "<p>5 rows \u00d7 15 columns</p>\n",
        "</div>"
       ],
       "metadata": {},
       "output_type": "pyout",
       "prompt_number": 14,
       "text": [
        "               HANDS_1  AMT_WON_1  EV_WON_1  HANDS_2  AMT_WON_2  EV_WON_2  \\\n",
        "NAME                                                                        \n",
        "!1dayIwIllbe         1        0.0      0.00        0       0.00      0.00   \n",
        "!DiAmAntiAA!         0        0.0      0.00        0       0.00      0.00   \n",
        "!nf!nity             1       -5.5     -5.50        0       0.00      0.00   \n",
        "\"DANger919          36      -64.9    -35.88      671     -50.75    -71.66   \n",
        "\"KibaDachi\"**        0        0.0      0.00        1      -1.00     -1.00   \n",
        "\n",
        "               HANDS_3  AMT_WON_3  EV_WON_3  HANDS_4  AMT_WON_4  EV_WON_4  \\\n",
        "NAME                                                                        \n",
        "!1dayIwIllbe         0       0.00      0.00        0          0         0   \n",
        "!DiAmAntiAA!       534    -319.12   -272.28        0          0         0   \n",
        "!nf!nity             0       0.00      0.00        0          0         0   \n",
        "\"DANger919        1069     736.82    499.32        0          0         0   \n",
        "\"KibaDachi\"**        0       0.00      0.00        0          0         0   \n",
        "\n",
        "               HANDS  AMT_WON  EV_WON  \n",
        "NAME                                   \n",
        "!1dayIwIllbe       1     0.00    0.00  \n",
        "!DiAmAntiAA!     534  -319.12 -272.28  \n",
        "!nf!nity           1    -5.50   -5.50  \n",
        "\"DANger919      1776   621.16  391.78  \n",
        "\"KibaDachi\"**      1    -1.00   -1.00  \n",
        "\n",
        "[5 rows x 15 columns]"
       ]
      }
     ],
     "prompt_number": 14
    },
    {
     "cell_type": "markdown",
     "metadata": {},
     "source": [
      "Delete all the columns from the individual databases. We have no use for these."
     ]
    },
    {
     "cell_type": "code",
     "collapsed": false,
     "input": [
      "for col in old_cols:\n",
      "\tdel all_players[col]\n",
      "\n",
      "all_players = all_players.sort('HANDS', ascending = False)\n",
      "\n",
      "all_players.head(25)"
     ],
     "language": "python",
     "metadata": {},
     "outputs": [
      {
       "html": [
        "<div style=\"max-height:1000px;max-width:1500px;overflow:auto;\">\n",
        "<table border=\"1\" class=\"dataframe\">\n",
        "  <thead>\n",
        "    <tr style=\"text-align: right;\">\n",
        "      <th></th>\n",
        "      <th>HANDS</th>\n",
        "      <th>AMT_WON</th>\n",
        "      <th>EV_WON</th>\n",
        "    </tr>\n",
        "    <tr>\n",
        "      <th>NAME</th>\n",
        "      <th></th>\n",
        "      <th></th>\n",
        "      <th></th>\n",
        "    </tr>\n",
        "  </thead>\n",
        "  <tbody>\n",
        "    <tr>\n",
        "      <th>DjuNKeLL</th>\n",
        "      <td> 400325</td>\n",
        "      <td> 8917.34</td>\n",
        "      <td> 9473.79</td>\n",
        "    </tr>\n",
        "    <tr>\n",
        "      <th>Andypsx</th>\n",
        "      <td> 221616</td>\n",
        "      <td>-3834.82</td>\n",
        "      <td>-5493.14</td>\n",
        "    </tr>\n",
        "    <tr>\n",
        "      <th>madmanco6</th>\n",
        "      <td> 216898</td>\n",
        "      <td>-1654.17</td>\n",
        "      <td>-3388.13</td>\n",
        "    </tr>\n",
        "    <tr>\n",
        "      <th>krissyb24</th>\n",
        "      <td> 190570</td>\n",
        "      <td> 3170.84</td>\n",
        "      <td> 2194.84</td>\n",
        "    </tr>\n",
        "    <tr>\n",
        "      <th>Cas1noRoyale</th>\n",
        "      <td> 189018</td>\n",
        "      <td>   -5.79</td>\n",
        "      <td> -862.57</td>\n",
        "    </tr>\n",
        "    <tr>\n",
        "      <th>MakoEv</th>\n",
        "      <td> 188436</td>\n",
        "      <td> 3990.61</td>\n",
        "      <td> 3575.89</td>\n",
        "    </tr>\n",
        "    <tr>\n",
        "      <th>OYRhit</th>\n",
        "      <td> 178096</td>\n",
        "      <td>-9377.63</td>\n",
        "      <td>-8305.27</td>\n",
        "    </tr>\n",
        "    <tr>\n",
        "      <th>TopLad14</th>\n",
        "      <td> 177994</td>\n",
        "      <td> 3778.51</td>\n",
        "      <td> 4426.17</td>\n",
        "    </tr>\n",
        "    <tr>\n",
        "      <th>wejo13</th>\n",
        "      <td> 165203</td>\n",
        "      <td> 2275.15</td>\n",
        "      <td> 1586.97</td>\n",
        "    </tr>\n",
        "    <tr>\n",
        "      <th>chirpybrox7</th>\n",
        "      <td> 161588</td>\n",
        "      <td> 7797.38</td>\n",
        "      <td> 7884.59</td>\n",
        "    </tr>\n",
        "    <tr>\n",
        "      <th>Morgauth</th>\n",
        "      <td> 157683</td>\n",
        "      <td>-1859.36</td>\n",
        "      <td>-2326.46</td>\n",
        "    </tr>\n",
        "    <tr>\n",
        "      <th>lockyzhang</th>\n",
        "      <td> 151784</td>\n",
        "      <td> 5500.27</td>\n",
        "      <td> 2757.16</td>\n",
        "    </tr>\n",
        "    <tr>\n",
        "      <th>_salaz4r_</th>\n",
        "      <td> 149089</td>\n",
        "      <td>-3608.37</td>\n",
        "      <td> -995.15</td>\n",
        "    </tr>\n",
        "    <tr>\n",
        "      <th>Zockermicha</th>\n",
        "      <td> 148271</td>\n",
        "      <td> 3313.93</td>\n",
        "      <td> 1089.16</td>\n",
        "    </tr>\n",
        "    <tr>\n",
        "      <th>magickarel</th>\n",
        "      <td> 137980</td>\n",
        "      <td> -424.90</td>\n",
        "      <td> -190.29</td>\n",
        "    </tr>\n",
        "    <tr>\n",
        "      <th>LgwZ</th>\n",
        "      <td> 135379</td>\n",
        "      <td> 1040.42</td>\n",
        "      <td> 1770.79</td>\n",
        "    </tr>\n",
        "    <tr>\n",
        "      <th>carset</th>\n",
        "      <td> 131016</td>\n",
        "      <td>  277.63</td>\n",
        "      <td> 1036.18</td>\n",
        "    </tr>\n",
        "    <tr>\n",
        "      <th>lejean80</th>\n",
        "      <td> 124819</td>\n",
        "      <td>-2433.16</td>\n",
        "      <td>-1604.58</td>\n",
        "    </tr>\n",
        "    <tr>\n",
        "      <th>Aloysius P57</th>\n",
        "      <td> 123755</td>\n",
        "      <td>  942.39</td>\n",
        "      <td> 2319.26</td>\n",
        "    </tr>\n",
        "    <tr>\n",
        "      <th>Tristwitch</th>\n",
        "      <td> 118729</td>\n",
        "      <td> 3050.93</td>\n",
        "      <td> 2607.62</td>\n",
        "    </tr>\n",
        "    <tr>\n",
        "      <th>zadrotmode</th>\n",
        "      <td> 115565</td>\n",
        "      <td> 2194.30</td>\n",
        "      <td> 2648.65</td>\n",
        "    </tr>\n",
        "    <tr>\n",
        "      <th>dreamer-1464</th>\n",
        "      <td> 115070</td>\n",
        "      <td>-2266.05</td>\n",
        "      <td>-1161.06</td>\n",
        "    </tr>\n",
        "    <tr>\n",
        "      <th>farsas01</th>\n",
        "      <td> 109889</td>\n",
        "      <td>-1222.78</td>\n",
        "      <td> -563.94</td>\n",
        "    </tr>\n",
        "    <tr>\n",
        "      <th>RvPersie</th>\n",
        "      <td> 109264</td>\n",
        "      <td> -705.21</td>\n",
        "      <td>-1518.82</td>\n",
        "    </tr>\n",
        "    <tr>\n",
        "      <th>Tino_Sp</th>\n",
        "      <td> 108778</td>\n",
        "      <td> -355.70</td>\n",
        "      <td> -474.43</td>\n",
        "    </tr>\n",
        "  </tbody>\n",
        "</table>\n",
        "<p>25 rows \u00d7 3 columns</p>\n",
        "</div>"
       ],
       "metadata": {},
       "output_type": "pyout",
       "prompt_number": 15,
       "text": [
        "               HANDS  AMT_WON   EV_WON\n",
        "NAME                                  \n",
        "DjuNKeLL      400325  8917.34  9473.79\n",
        "Andypsx       221616 -3834.82 -5493.14\n",
        "madmanco6     216898 -1654.17 -3388.13\n",
        "krissyb24     190570  3170.84  2194.84\n",
        "Cas1noRoyale  189018    -5.79  -862.57\n",
        "MakoEv        188436  3990.61  3575.89\n",
        "OYRhit        178096 -9377.63 -8305.27\n",
        "TopLad14      177994  3778.51  4426.17\n",
        "wejo13        165203  2275.15  1586.97\n",
        "chirpybrox7   161588  7797.38  7884.59\n",
        "Morgauth      157683 -1859.36 -2326.46\n",
        "lockyzhang    151784  5500.27  2757.16\n",
        "_salaz4r_     149089 -3608.37  -995.15\n",
        "Zockermicha   148271  3313.93  1089.16\n",
        "magickarel    137980  -424.90  -190.29\n",
        "LgwZ          135379  1040.42  1770.79\n",
        "carset        131016   277.63  1036.18\n",
        "lejean80      124819 -2433.16 -1604.58\n",
        "Aloysius P57  123755   942.39  2319.26\n",
        "Tristwitch    118729  3050.93  2607.62\n",
        "zadrotmode    115565  2194.30  2648.65\n",
        "dreamer-1464  115070 -2266.05 -1161.06\n",
        "farsas01      109889 -1222.78  -563.94\n",
        "RvPersie      109264  -705.21 -1518.82\n",
        "Tino_Sp       108778  -355.70  -474.43\n",
        "\n",
        "[25 rows x 3 columns]"
       ]
      }
     ],
     "prompt_number": 15
    },
    {
     "cell_type": "code",
     "collapsed": false,
     "input": [
      "allplayers.to_csv('DATA/2_ALL_PLAYERS.csv')"
     ],
     "language": "python",
     "metadata": {},
     "outputs": []
    }
   ],
   "metadata": {}
  }
 ]
}