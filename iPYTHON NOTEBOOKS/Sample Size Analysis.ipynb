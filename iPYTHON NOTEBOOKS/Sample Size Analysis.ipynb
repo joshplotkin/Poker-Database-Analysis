{
 "metadata": {
  "name": "",
  "signature": "sha256:6aea1eae1c84527056a3f9e86de021aad6a0782eeb0bf5a5c91fed94a943ed0c"
 },
 "nbformat": 3,
 "nbformat_minor": 0,
 "worksheets": [
  {
   "cells": [
    {
     "cell_type": "code",
     "collapsed": false,
     "input": [
      "import pandas as pd\n",
      "import numpy as np\n",
      "from pandas import *\n",
      "import os\n",
      "import psycopg2\n",
      "import sys\n",
      "import brewer2mpl\n",
      "import pylab as pl\n",
      "import matplotlib.pyplot as plt\n",
      "import scipy as sc\n",
      "from pylab import *\n",
      "from numpy import float64\n",
      "from mpltools import style\n",
      "from mpltools import special\n",
      "from matplotlib.ticker import NullFormatter\n",
      "# import mpld3\n",
      "# from mpld3 import plugins, utils"
     ],
     "language": "python",
     "metadata": {},
     "outputs": [
      {
       "output_type": "stream",
       "stream": "stderr",
       "text": [
        "C:\\Users\\JP\\AppData\\Local\\Enthought\\Canopy\\User\\lib\\site-packages\\pytz\\__init__.py:29: UserWarning: Module argparse was already imported from C:\\Users\\JP\\AppData\\Local\\Enthought\\Canopy\\App\\appdata\\canopy-1.3.0.1715.win-x86_64\\lib\\argparse.pyc, but c:\\users\\jp\\appdata\\local\\enthought\\canopy\\user\\lib\\site-packages is being added to sys.path\n",
        "  from pkg_resources import resource_stream\n"
       ]
      }
     ],
     "prompt_number": 1
    },
    {
     "cell_type": "code",
     "collapsed": false,
     "input": [],
     "language": "python",
     "metadata": {},
     "outputs": []
    }
   ],
   "metadata": {}
  }
 ]
}